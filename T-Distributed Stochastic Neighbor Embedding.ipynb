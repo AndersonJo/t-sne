{
 "cells": [
  {
   "cell_type": "markdown",
   "metadata": {},
   "source": [
    "# T-Distributed Stochastic Neighbor Embedding\n",
    "\n",
    "데이터의 복잡도는 컴퓨팅 파워가 증가하면서 같이 증가하고 있습니다. <br>\n",
    "고차원의 데이터를 처리하는데 컴퓨터는 아무런 문제가 없겠지만.. 인간은 3차원정도밖에 이해를 하지 못하는 동물입니다.<br>\n",
    "따라서 데이터를 인간이 이해할수 있는 범위에서 직관적으로 이해하기 위해서는 고차원의 데이터를 3차원 또는 2차원의 데이터로 축소시켜야 합니다.\n",
    "\n",
    "Manifold learning이라고도 하며 Nonlinear dimensionality reduction이라고도 합니다.<br>\n",
    "전통적인 dimensionality reduction의 방법으로 Principal Components Analysis (PCA) 그리고 Multidimensional scaling (MDS) 등이 있습니다.<br>"
   ]
  },
  {
   "cell_type": "markdown",
   "metadata": {},
   "source": [
    "# Stochastic Neighbor Embedding\n",
    "\n",
    "Stochastic Neighbor Embedding (SNE)는 고차원의 Euclidean distances를 conditional probability로 바꾸는 것으로부터 시작합니다.<br>\n",
    "2개의 서로다른 데이터 $ x_i $ 그리고 $ x_j $ 의 유사도를 조건부 확률로 나타내었는데, 예를 들어서.. <br>\n"
   ]
  },
  {
   "cell_type": "markdown",
   "metadata": {},
   "source": [
    "# References\n",
    "\n",
    "* [Visualizing Data using t-SNE PDF](http://www.jmlr.org/papers/volume9/vandermaaten08a/vandermaaten08a.pdf)\n",
    "* [An illustrated introduction to the t-SNE algorithm](https://github.com/oreillymedia/t-SNE-tutorial)"
   ]
  }
 ],
 "metadata": {
  "kernelspec": {
   "display_name": "Python 3",
   "language": "python",
   "name": "python3"
  },
  "language_info": {
   "codemirror_mode": {
    "name": "ipython",
    "version": 3
   },
   "file_extension": ".py",
   "mimetype": "text/x-python",
   "name": "python",
   "nbconvert_exporter": "python",
   "pygments_lexer": "ipython3",
   "version": "3.6.1"
  }
 },
 "nbformat": 4,
 "nbformat_minor": 2
}
